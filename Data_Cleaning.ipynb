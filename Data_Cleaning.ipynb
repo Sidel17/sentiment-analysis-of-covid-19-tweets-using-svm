{
 "cells": [
  {
   "cell_type": "markdown",
   "metadata": {},
   "source": [
    "Menggunakan Fungsi fillna pada pandas"
   ]
  },
  {
   "cell_type": "markdown",
   "metadata": {},
   "source": [
    "Recode/Replace"
   ]
  },
  {
   "cell_type": "code",
   "execution_count": 2,
   "metadata": {},
   "outputs": [
    {
     "name": "stdout",
     "output_type": "stream",
     "text": [
      "   UserName  ScreenName                  Location     TweetAt  \\\n",
      "0      3799       48751                    London  16-03-2020   \n",
      "1      3800       48752                        UK  16-03-2020   \n",
      "2      3801       48753                 Vagabonds  16-03-2020   \n",
      "3      3802       48754                         0  16-03-2020   \n",
      "4      3803       48755                         0  16-03-2020   \n",
      "5      3804       48756  ÜT: 36.319708,-82.363649  16-03-2020   \n",
      "6      3805       48757      35.926541,-78.753267  16-03-2020   \n",
      "7      3806       48758                   Austria  16-03-2020   \n",
      "8      3807       48759           Atlanta, GA USA  16-03-2020   \n",
      "9      3808       48760          BHAVNAGAR,GUJRAT  16-03-2020   \n",
      "\n",
      "                                       OriginalTweet  \n",
      "0  @MeNyrbie @Phil_Gahan @Chrisitv https://t.co/i...  \n",
      "1  advice Talk to your neighbours family to excha...  \n",
      "2  Coronavirus Australia: Woolworths to give elde...  \n",
      "3  My food stock is not the only one which is emp...  \n",
      "4  Me, ready to go at supermarket during the #COV...  \n",
      "5  As news of the regions first confirmed COVID-...  \n",
      "6  Cashier at grocery store was sharing his insig...  \n",
      "7  Was at the supermarket today. Didn't buy toile...  \n",
      "8  Due to COVID-19 our retail store and classroom...  \n",
      "9  For corona prevention,we should stop to buy th...  \n"
     ]
    }
   ],
   "source": [
    "import pandas as pd\n",
    "tweets = pd.read_csv('./Corona.csv')\n",
    "print(tweets.fillna(0).iloc[0:10, 0:5])"
   ]
  },
  {
   "cell_type": "markdown",
   "metadata": {},
   "source": [
    "Fill Forward"
   ]
  },
  {
   "cell_type": "code",
   "execution_count": 3,
   "metadata": {},
   "outputs": [
    {
     "name": "stdout",
     "output_type": "stream",
     "text": [
      "   UserName  ScreenName                  Location     TweetAt  \\\n",
      "5      3804       48756  ÜT: 36.319708,-82.363649  16-03-2020   \n",
      "6      3805       48757      35.926541,-78.753267  16-03-2020   \n",
      "7      3806       48758                   Austria  16-03-2020   \n",
      "8      3807       48759           Atlanta, GA USA  16-03-2020   \n",
      "9      3808       48760          BHAVNAGAR,GUJRAT  16-03-2020   \n",
      "\n",
      "                                       OriginalTweet  \n",
      "5  As news of the regions first confirmed COVID-...  \n",
      "6  Cashier at grocery store was sharing his insig...  \n",
      "7  Was at the supermarket today. Didn't buy toile...  \n",
      "8  Due to COVID-19 our retail store and classroom...  \n",
      "9  For corona prevention,we should stop to buy th...  \n"
     ]
    }
   ],
   "source": [
    "print(tweets.fillna(method='ffill').iloc[0:10,0:5].tail())"
   ]
  },
  {
   "cell_type": "markdown",
   "metadata": {},
   "source": [
    "Fill Backward"
   ]
  },
  {
   "cell_type": "code",
   "execution_count": 4,
   "metadata": {},
   "outputs": [
    {
     "name": "stdout",
     "output_type": "stream",
     "text": [
      "       UserName  ScreenName                      Location     TweetAt  \\\n",
      "41152     44951       89903  Wellington City, New Zealand  14-04-2020   \n",
      "41153     44952       89904  i love you so much || he/him  14-04-2020   \n",
      "41154     44953       89905  i love you so much || he/him  14-04-2020   \n",
      "41155     44954       89906  i love you so much || he/him  14-04-2020   \n",
      "41156     44955       89907  i love you so much || he/him  14-04-2020   \n",
      "\n",
      "                                           OriginalTweet  \n",
      "41152  Airline pilots offering to stock supermarket s...  \n",
      "41153  Response to complaint not provided citing COVI...  \n",
      "41154  You know its getting tough when @KameronWilds...  \n",
      "41155  Is it wrong that the smell of hand sanitizer i...  \n",
      "41156  @TartiiCat Well new/used Rift S are going for ...  \n"
     ]
    }
   ],
   "source": [
    "print(tweets.fillna(method='bfill').iloc[:,0:5].tail())"
   ]
  },
  {
   "cell_type": "markdown",
   "metadata": {},
   "source": [
    "Interpolate"
   ]
  },
  {
   "cell_type": "code",
   "execution_count": 5,
   "metadata": {},
   "outputs": [
    {
     "name": "stdout",
     "output_type": "stream",
     "text": [
      "   UserName  ScreenName                  Location     TweetAt  \\\n",
      "0      3799       48751                    London  16-03-2020   \n",
      "1      3800       48752                        UK  16-03-2020   \n",
      "2      3801       48753                 Vagabonds  16-03-2020   \n",
      "3      3802       48754                       NaN  16-03-2020   \n",
      "4      3803       48755                       NaN  16-03-2020   \n",
      "5      3804       48756  ÜT: 36.319708,-82.363649  16-03-2020   \n",
      "6      3805       48757      35.926541,-78.753267  16-03-2020   \n",
      "7      3806       48758                   Austria  16-03-2020   \n",
      "8      3807       48759           Atlanta, GA USA  16-03-2020   \n",
      "9      3808       48760          BHAVNAGAR,GUJRAT  16-03-2020   \n",
      "\n",
      "                                       OriginalTweet  \n",
      "0  @MeNyrbie @Phil_Gahan @Chrisitv https://t.co/i...  \n",
      "1  advice Talk to your neighbours family to excha...  \n",
      "2  Coronavirus Australia: Woolworths to give elde...  \n",
      "3  My food stock is not the only one which is emp...  \n",
      "4  Me, ready to go at supermarket during the #COV...  \n",
      "5  As news of the regions first confirmed COVID-...  \n",
      "6  Cashier at grocery store was sharing his insig...  \n",
      "7  Was at the supermarket today. Didn't buy toile...  \n",
      "8  Due to COVID-19 our retail store and classroom...  \n",
      "9  For corona prevention,we should stop to buy th...  \n"
     ]
    }
   ],
   "source": [
    "print(tweets.interpolate().iloc[0:10,0:5])"
   ]
  },
  {
   "cell_type": "markdown",
   "metadata": {},
   "source": [
    "Drop Missing Values"
   ]
  },
  {
   "cell_type": "code",
   "execution_count": 6,
   "metadata": {},
   "outputs": [
    {
     "name": "stdout",
     "output_type": "stream",
     "text": [
      "(41157, 6)\n"
     ]
    }
   ],
   "source": [
    "print(tweets.shape)"
   ]
  },
  {
   "cell_type": "code",
   "execution_count": 8,
   "metadata": {},
   "outputs": [
    {
     "name": "stdout",
     "output_type": "stream",
     "text": [
      "(32567, 6)\n"
     ]
    }
   ],
   "source": [
    "tweets_dropna = tweets.dropna()\n",
    "print(tweets_dropna.shape)"
   ]
  },
  {
   "cell_type": "code",
   "execution_count": 9,
   "metadata": {},
   "outputs": [
    {
     "name": "stdout",
     "output_type": "stream",
     "text": [
      "       UserName  ScreenName                      Location     TweetAt  \\\n",
      "0          3799       48751                        London  16-03-2020   \n",
      "1          3800       48752                            UK  16-03-2020   \n",
      "2          3801       48753                     Vagabonds  16-03-2020   \n",
      "5          3804       48756      ÜT: 36.319708,-82.363649  16-03-2020   \n",
      "6          3805       48757          35.926541,-78.753267  16-03-2020   \n",
      "...         ...         ...                           ...         ...   \n",
      "41147     44946       89898                  Brooklyn, NY  14-04-2020   \n",
      "41149     44948       89900              Toronto, Ontario  14-04-2020   \n",
      "41150     44949       89901                          OHIO  14-04-2020   \n",
      "41152     44951       89903  Wellington City, New Zealand  14-04-2020   \n",
      "41156     44955       89907  i love you so much || he/him  14-04-2020   \n",
      "\n",
      "                                           OriginalTweet Sentiment  \n",
      "0      @MeNyrbie @Phil_Gahan @Chrisitv https://t.co/i...   Neutral  \n",
      "1      advice Talk to your neighbours family to excha...  Positive  \n",
      "2      Coronavirus Australia: Woolworths to give elde...  Positive  \n",
      "5      As news of the regions first confirmed COVID-...  Positive  \n",
      "6      Cashier at grocery store was sharing his insig...  Positive  \n",
      "...                                                  ...       ...  \n",
      "41147  Yall really shitting that much more at home??...  Negative  \n",
      "41149  Still shocked by the number of #Toronto superm...  Negative  \n",
      "41150  I never that wed be in a situation &amp; worl...  Positive  \n",
      "41152  Airline pilots offering to stock supermarket s...   Neutral  \n",
      "41156  @TartiiCat Well new/used Rift S are going for ...  Negative  \n",
      "\n",
      "[32567 rows x 6 columns]\n"
     ]
    }
   ],
   "source": [
    "print(tweets_dropna)"
   ]
  },
  {
   "cell_type": "code",
   "execution_count": null,
   "metadata": {},
   "outputs": [],
   "source": []
  }
 ],
 "metadata": {
  "kernelspec": {
   "display_name": "Python 3",
   "language": "python",
   "name": "python3"
  },
  "language_info": {
   "codemirror_mode": {
    "name": "ipython",
    "version": 3
   },
   "file_extension": ".py",
   "mimetype": "text/x-python",
   "name": "python",
   "nbconvert_exporter": "python",
   "pygments_lexer": "ipython3",
   "version": "3.6.12"
  }
 },
 "nbformat": 4,
 "nbformat_minor": 2
}

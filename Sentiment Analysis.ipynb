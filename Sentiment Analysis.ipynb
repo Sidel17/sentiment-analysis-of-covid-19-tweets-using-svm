{
 "cells": [
  {
   "cell_type": "code",
   "execution_count": 1,
   "metadata": {
    "collapsed": true
   },
   "outputs": [],
   "source": [
    "import pandas as pd"
   ]
  },
  {
   "cell_type": "code",
   "execution_count": 2,
   "metadata": {
    "collapsed": true
   },
   "outputs": [],
   "source": [
    "train = pd.read_csv('Corona.csv')\n",
    "test = pd.read_csv('Corona_NLP_test.csv')"
   ]
  },
  {
   "cell_type": "code",
   "execution_count": 3,
   "metadata": {
    "collapsed": false
   },
   "outputs": [
    {
     "data": {
      "text/plain": [
       "array(['Neutral', 'Positive', 'Extremely Negative', 'Negative',\n",
       "       'Extremely Positive'], dtype=object)"
      ]
     },
     "execution_count": 3,
     "metadata": {},
     "output_type": "execute_result"
    }
   ],
   "source": [
    "train.Sentiment.unique()"
   ]
  },
  {
   "cell_type": "code",
   "execution_count": 4,
   "metadata": {
    "collapsed": false
   },
   "outputs": [
    {
     "data": {
      "text/plain": [
       "array(['Extremely Negative', 'Positive', 'Extremely Positive', 'Negative',\n",
       "       'Neutral'], dtype=object)"
      ]
     },
     "execution_count": 4,
     "metadata": {},
     "output_type": "execute_result"
    }
   ],
   "source": [
    "test.Sentiment.unique()"
   ]
  },
  {
   "cell_type": "code",
   "execution_count": 5,
   "metadata": {
    "collapsed": false
   },
   "outputs": [
    {
     "data": {
      "text/html": [
       "<div>\n",
       "<style scoped>\n",
       "    .dataframe tbody tr th:only-of-type {\n",
       "        vertical-align: middle;\n",
       "    }\n",
       "\n",
       "    .dataframe tbody tr th {\n",
       "        vertical-align: top;\n",
       "    }\n",
       "\n",
       "    .dataframe thead th {\n",
       "        text-align: right;\n",
       "    }\n",
       "</style>\n",
       "<table border=\"1\" class=\"dataframe\">\n",
       "  <thead>\n",
       "    <tr style=\"text-align: right;\">\n",
       "      <th></th>\n",
       "      <th>UserName</th>\n",
       "      <th>ScreenName</th>\n",
       "      <th>Location</th>\n",
       "      <th>TweetAt</th>\n",
       "      <th>OriginalTweet</th>\n",
       "      <th>Sentiment</th>\n",
       "    </tr>\n",
       "  </thead>\n",
       "  <tbody>\n",
       "    <tr>\n",
       "      <th>14103</th>\n",
       "      <td>17902</td>\n",
       "      <td>62854</td>\n",
       "      <td>Jamaica</td>\n",
       "      <td>21-03-2020</td>\n",
       "      <td>In light of this pandemic, we aim to serve you...</td>\n",
       "      <td>Extremely Positive</td>\n",
       "    </tr>\n",
       "    <tr>\n",
       "      <th>39907</th>\n",
       "      <td>43706</td>\n",
       "      <td>88658</td>\n",
       "      <td>Las Vegas, NV</td>\n",
       "      <td>13-04-2020</td>\n",
       "      <td>Coronavirus pandemic | OPEC, Russia approve bi...</td>\n",
       "      <td>Positive</td>\n",
       "    </tr>\n",
       "    <tr>\n",
       "      <th>26260</th>\n",
       "      <td>30059</td>\n",
       "      <td>75011</td>\n",
       "      <td>Louisville KY</td>\n",
       "      <td>02-04-2020</td>\n",
       "      <td>Y all Only go out if you absolutely need it If...</td>\n",
       "      <td>Positive</td>\n",
       "    </tr>\n",
       "    <tr>\n",
       "      <th>25260</th>\n",
       "      <td>29059</td>\n",
       "      <td>74011</td>\n",
       "      <td>Alberta Beach, Barrhead, Fox Creek, Lac Ste. A...</td>\n",
       "      <td>31-03-2020</td>\n",
       "      <td>Food service operations are seeing the most ad...</td>\n",
       "      <td>Positive</td>\n",
       "    </tr>\n",
       "    <tr>\n",
       "      <th>7552</th>\n",
       "      <td>11351</td>\n",
       "      <td>56303</td>\n",
       "      <td>NaN</td>\n",
       "      <td>19-03-2020</td>\n",
       "      <td>Ocado expected to impose rationing on more pro...</td>\n",
       "      <td>Negative</td>\n",
       "    </tr>\n",
       "  </tbody>\n",
       "</table>\n",
       "</div>"
      ],
      "text/plain": [
       "       UserName  ScreenName  \\\n",
       "14103     17902       62854   \n",
       "39907     43706       88658   \n",
       "26260     30059       75011   \n",
       "25260     29059       74011   \n",
       "7552      11351       56303   \n",
       "\n",
       "                                                Location     TweetAt  \\\n",
       "14103                                            Jamaica  21-03-2020   \n",
       "39907                                      Las Vegas, NV  13-04-2020   \n",
       "26260                                      Louisville KY  02-04-2020   \n",
       "25260  Alberta Beach, Barrhead, Fox Creek, Lac Ste. A...  31-03-2020   \n",
       "7552                                                 NaN  19-03-2020   \n",
       "\n",
       "                                           OriginalTweet           Sentiment  \n",
       "14103  In light of this pandemic, we aim to serve you...  Extremely Positive  \n",
       "39907  Coronavirus pandemic | OPEC, Russia approve bi...            Positive  \n",
       "26260  Y all Only go out if you absolutely need it If...            Positive  \n",
       "25260  Food service operations are seeing the most ad...            Positive  \n",
       "7552   Ocado expected to impose rationing on more pro...            Negative  "
      ]
     },
     "execution_count": 5,
     "metadata": {},
     "output_type": "execute_result"
    }
   ],
   "source": [
    "train.sample(frac=1).head()"
   ]
  },
  {
   "cell_type": "code",
   "execution_count": 6,
   "metadata": {
    "collapsed": false
   },
   "outputs": [],
   "source": [
    "del train['TweetAt']"
   ]
  },
  {
   "cell_type": "code",
   "execution_count": 7,
   "metadata": {
    "collapsed": true
   },
   "outputs": [],
   "source": [
    "del train['UserName']"
   ]
  },
  {
   "cell_type": "code",
   "execution_count": 8,
   "metadata": {
    "collapsed": true
   },
   "outputs": [],
   "source": [
    "del train['ScreenName']"
   ]
  },
  {
   "cell_type": "code",
   "execution_count": 9,
   "metadata": {
    "collapsed": true
   },
   "outputs": [],
   "source": [
    "del train['Location']"
   ]
  },
  {
   "cell_type": "code",
   "execution_count": 10,
   "metadata": {
    "collapsed": false
   },
   "outputs": [
    {
     "data": {
      "text/html": [
       "<div>\n",
       "<style scoped>\n",
       "    .dataframe tbody tr th:only-of-type {\n",
       "        vertical-align: middle;\n",
       "    }\n",
       "\n",
       "    .dataframe tbody tr th {\n",
       "        vertical-align: top;\n",
       "    }\n",
       "\n",
       "    .dataframe thead th {\n",
       "        text-align: right;\n",
       "    }\n",
       "</style>\n",
       "<table border=\"1\" class=\"dataframe\">\n",
       "  <thead>\n",
       "    <tr style=\"text-align: right;\">\n",
       "      <th></th>\n",
       "      <th>OriginalTweet</th>\n",
       "      <th>Sentiment</th>\n",
       "    </tr>\n",
       "  </thead>\n",
       "  <tbody>\n",
       "    <tr>\n",
       "      <th>10026</th>\n",
       "      <td>endless page after page of greedy people selli...</td>\n",
       "      <td>Negative</td>\n",
       "    </tr>\n",
       "    <tr>\n",
       "      <th>25190</th>\n",
       "      <td>Daniel Kaufman of offers tips to avoid scams w...</td>\n",
       "      <td>Negative</td>\n",
       "    </tr>\n",
       "    <tr>\n",
       "      <th>21128</th>\n",
       "      <td>Survey%3A%20How%20is%20COVID-19%20Changing%20C...</td>\n",
       "      <td>Neutral</td>\n",
       "    </tr>\n",
       "    <tr>\n",
       "      <th>12641</th>\n",
       "      <td>Posted a few of these this morning, I work 10h...</td>\n",
       "      <td>Positive</td>\n",
       "    </tr>\n",
       "    <tr>\n",
       "      <th>12601</th>\n",
       "      <td>You can still get your favorite foods just in ...</td>\n",
       "      <td>Positive</td>\n",
       "    </tr>\n",
       "  </tbody>\n",
       "</table>\n",
       "</div>"
      ],
      "text/plain": [
       "                                           OriginalTweet Sentiment\n",
       "10026  endless page after page of greedy people selli...  Negative\n",
       "25190  Daniel Kaufman of offers tips to avoid scams w...  Negative\n",
       "21128  Survey%3A%20How%20is%20COVID-19%20Changing%20C...   Neutral\n",
       "12641  Posted a few of these this morning, I work 10h...  Positive\n",
       "12601  You can still get your favorite foods just in ...  Positive"
      ]
     },
     "execution_count": 10,
     "metadata": {},
     "output_type": "execute_result"
    }
   ],
   "source": [
    "train.sample(frac=1).head()"
   ]
  },
  {
   "cell_type": "code",
   "execution_count": 11,
   "metadata": {
    "collapsed": true
   },
   "outputs": [],
   "source": [
    "from sklearn.feature_extraction.text import TfidfVectorizer"
   ]
  },
  {
   "cell_type": "code",
   "execution_count": 12,
   "metadata": {
    "collapsed": true
   },
   "outputs": [],
   "source": [
    "vectorizer = TfidfVectorizer(min_df = 5,\n",
    "                             max_df = 0.8,\n",
    "                             sublinear_tf = True,\n",
    "                             use_idf = True)\n",
    "train_vectors = vectorizer.fit_transform(train['OriginalTweet'])\n",
    "test_vectors = vectorizer.transform(test['OriginalTweet'])"
   ]
  },
  {
   "cell_type": "code",
   "execution_count": 13,
   "metadata": {
    "collapsed": true
   },
   "outputs": [],
   "source": [
    "import time\n",
    "from sklearn import svm\n",
    "from sklearn.metrics import classification_report"
   ]
  },
  {
   "cell_type": "code",
   "execution_count": 14,
   "metadata": {
    "collapsed": false
   },
   "outputs": [
    {
     "name": "stdout",
     "output_type": "stream",
     "text": [
      "Training time: 1002.320804s; Prediction time: 53.756868s\n",
      "positive:  {'precision': 0.573414422241529, 'recall': 0.6969376979936642, 'f1-score': 0.6291706387035272, 'support': 947}\n",
      "negative:  {'precision': 0.5768903993203058, 'recall': 0.6522574447646494, 'f1-score': 0.612263300270514, 'support': 1041}\n",
      "Extremely positive:  {'precision': 0.7722095671981777, 'recall': 0.5659432387312187, 'f1-score': 0.653179190751445, 'support': 599}\n",
      "Extremely Negative:  {'precision': 0.7342657342657343, 'recall': 0.5320945945945946, 'f1-score': 0.6170421155729677, 'support': 592}\n",
      "Neutral :  {'precision': 0.739202657807309, 'recall': 0.7189014539579968, 'f1-score': 0.7289107289107289, 'support': 619}\n"
     ]
    }
   ],
   "source": [
    "classifier_linear = svm.SVC(kernel='linear')\n",
    "t0 = time.time()\n",
    "classifier_linear.fit(train_vectors, train['Sentiment'])\n",
    "t1 = time.time()\n",
    "prediction_linear = classifier_linear.predict(test_vectors)\n",
    "t2 = time.time()\n",
    "time_linear_train = t1-t0\n",
    "time_linear_predict = t2-t1\n",
    "\n",
    "\n",
    "print(\"Training time: %fs; Prediction time: %fs\" % (time_linear_train, time_linear_predict))\n",
    "report = classification_report(test['Sentiment'], prediction_linear, output_dict=True)\n",
    "\n",
    "\n",
    "print('positive: ', report['Positive'])\n",
    "print('negative: ', report['Negative'])\n",
    "print('Extremely positive: ', report['Extremely Positive'])\n",
    "print('Extremely Negative: ', report['Extremely Negative'])\n",
    "print('Neutral : ', report['Neutral'])"
   ]
  },
  {
   "cell_type": "code",
   "execution_count": 21,
   "metadata": {
    "collapsed": false
   },
   "outputs": [
    {
     "name": "stdout",
     "output_type": "stream",
     "text": [
      "['Neutral']\n"
     ]
    }
   ],
   "source": [
    "review = \"\"\"Do not purchase this product. My cell phone blast when I switched the charger\"\"\"\n",
    "review_vector = vectorizer.transform([review])\n",
    "print(classifier_linear.predict(review_vector))"
   ]
  },
  {
   "cell_type": "code",
   "execution_count": null,
   "metadata": {
    "collapsed": true
   },
   "outputs": [],
   "source": []
  }
 ],
 "metadata": {
  "anaconda-cloud": {},
  "kernelspec": {
   "display_name": "Python [conda env:py365]",
   "language": "python",
   "name": "conda-env-py365-py"
  },
  "language_info": {
   "codemirror_mode": {
    "name": "ipython",
    "version": 3
   },
   "file_extension": ".py",
   "mimetype": "text/x-python",
   "name": "python",
   "nbconvert_exporter": "python",
   "pygments_lexer": "ipython3",
   "version": "3.6.5"
  }
 },
 "nbformat": 4,
 "nbformat_minor": 1
}
